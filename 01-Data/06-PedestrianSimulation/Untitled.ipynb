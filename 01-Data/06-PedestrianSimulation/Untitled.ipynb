{
 "cells": [
  {
   "cell_type": "code",
   "execution_count": 102,
   "metadata": {
    "collapsed": true
   },
   "outputs": [],
   "source": [
    "import json\n",
    "import pandas as pd"
   ]
  },
  {
   "cell_type": "code",
   "execution_count": 103,
   "metadata": {},
   "outputs": [],
   "source": [
    "nodeData = open(\"../06-PedestrianSimulation/ped_sim/data/NetworkMap.json\").read()"
   ]
  },
  {
   "cell_type": "code",
   "execution_count": 104,
   "metadata": {
    "collapsed": true
   },
   "outputs": [],
   "source": [
    "data = json.loads(nodeData)"
   ]
  },
  {
   "cell_type": "code",
   "execution_count": 105,
   "metadata": {},
   "outputs": [],
   "source": [
    "records = []\n",
    "for record in data:\n",
    "    nodeId = data[str(record)][0]['NodeID']\n",
    "    nodeVolume = data[str(record)][0]['NodeVolume']\n",
    "    nodeFeederCount = data[str(record)][0]['NodeFeederCount']\n",
    "    borders = data[str(record)][0]['Borders']\n",
    "    levelOneConnections = data[str(record)][0]['LevelOneConnections']\n",
    "    object = {'nodeID':nodeId,'nodeVolume':nodeVolume,'nodeFeederCount':nodeFeederCount,'borders':borders,'levelOneConnections':levelOneConnections}\n",
    "    records.append(object)\n",
    "    \n",
    "    "
   ]
  },
  {
   "cell_type": "code",
   "execution_count": 106,
   "metadata": {},
   "outputs": [],
   "source": [
    "df_raw = pd.DataFrame(records)"
   ]
  },
  {
   "cell_type": "code",
   "execution_count": 107,
   "metadata": {},
   "outputs": [
    {
     "data": {
      "text/html": [
       "<div>\n",
       "<style scoped>\n",
       "    .dataframe tbody tr th:only-of-type {\n",
       "        vertical-align: middle;\n",
       "    }\n",
       "\n",
       "    .dataframe tbody tr th {\n",
       "        vertical-align: top;\n",
       "    }\n",
       "\n",
       "    .dataframe thead th {\n",
       "        text-align: right;\n",
       "    }\n",
       "</style>\n",
       "<table border=\"1\" class=\"dataframe\">\n",
       "  <thead>\n",
       "    <tr style=\"text-align: right;\">\n",
       "      <th></th>\n",
       "      <th>borders</th>\n",
       "      <th>levelOneConnections</th>\n",
       "      <th>nodeFeederCount</th>\n",
       "      <th>nodeID</th>\n",
       "      <th>nodeVolume</th>\n",
       "    </tr>\n",
       "  </thead>\n",
       "  <tbody>\n",
       "    <tr>\n",
       "      <th>0</th>\n",
       "      <td>[{'WaterBorder': 0.5, 'GovernmentBorder': 0.25...</td>\n",
       "      <td>[1, 3, 20]</td>\n",
       "      <td>3</td>\n",
       "      <td>0</td>\n",
       "      <td>328</td>\n",
       "    </tr>\n",
       "    <tr>\n",
       "      <th>1</th>\n",
       "      <td>[{'WaterBorder': 0.5, 'GovernmentBorder': 0.25...</td>\n",
       "      <td>[0, 5]</td>\n",
       "      <td>4</td>\n",
       "      <td>1</td>\n",
       "      <td>2090</td>\n",
       "    </tr>\n",
       "    <tr>\n",
       "      <th>2</th>\n",
       "      <td>[{'WaterBorder': 0.0, 'GovernmentBorder': 0.0,...</td>\n",
       "      <td>[3, 19]</td>\n",
       "      <td>4</td>\n",
       "      <td>2</td>\n",
       "      <td>1181</td>\n",
       "    </tr>\n",
       "    <tr>\n",
       "      <th>3</th>\n",
       "      <td>[{'WaterBorder': 0.0, 'GovernmentBorder': 0.25...</td>\n",
       "      <td>[0, 2, 4, 5]</td>\n",
       "      <td>4</td>\n",
       "      <td>3</td>\n",
       "      <td>1892</td>\n",
       "    </tr>\n",
       "    <tr>\n",
       "      <th>4</th>\n",
       "      <td>[{'WaterBorder': 0.0, 'GovernmentBorder': 0.0,...</td>\n",
       "      <td>[3, 6, 19]</td>\n",
       "      <td>4</td>\n",
       "      <td>4</td>\n",
       "      <td>1562</td>\n",
       "    </tr>\n",
       "  </tbody>\n",
       "</table>\n",
       "</div>"
      ],
      "text/plain": [
       "                                             borders levelOneConnections  \\\n",
       "0  [{'WaterBorder': 0.5, 'GovernmentBorder': 0.25...          [1, 3, 20]   \n",
       "1  [{'WaterBorder': 0.5, 'GovernmentBorder': 0.25...              [0, 5]   \n",
       "2  [{'WaterBorder': 0.0, 'GovernmentBorder': 0.0,...             [3, 19]   \n",
       "3  [{'WaterBorder': 0.0, 'GovernmentBorder': 0.25...        [0, 2, 4, 5]   \n",
       "4  [{'WaterBorder': 0.0, 'GovernmentBorder': 0.0,...          [3, 6, 19]   \n",
       "\n",
       "   nodeFeederCount  nodeID  nodeVolume  \n",
       "0                3       0         328  \n",
       "1                4       1        2090  \n",
       "2                4       2        1181  \n",
       "3                4       3        1892  \n",
       "4                4       4        1562  "
      ]
     },
     "execution_count": 107,
     "metadata": {},
     "output_type": "execute_result"
    }
   ],
   "source": [
    "df = df_raw.copy()\n",
    "df['nodeID'] = df_raw['nodeID'] - 1\n",
    "for i in range(len(df)):\n",
    "    connections = df.iloc[i]['levelOneConnections']\n",
    "    connections = [x-1 for x in connections]\n",
    "    df.at[i,'levelOneConnections'] = connections\n",
    "df.head()"
   ]
  },
  {
   "cell_type": "code",
   "execution_count": 116,
   "metadata": {},
   "outputs": [],
   "source": [
    "df['levelTwoConnections'] = \"\"\n",
    "df['levelThreeConnections'] = \"\"\n",
    "\n",
    "\n",
    "for i in range(len(df)):\n",
    "    two_connections = []\n",
    "    one_connections = df.iloc[i]['levelOneConnections']\n",
    "    for connection in one_connections:\n",
    "        a = df.iloc[connection]['levelOneConnections']\n",
    "        for item in a:\n",
    "            two_connections.append(item)\n",
    "    df.at[i, 'levelTwoConnections'] = list(set(two_connections))\n",
    "    \n",
    "for i in range(len(df)):\n",
    "    three_connections = []\n",
    "    two_connections = df.iloc[i]['levelTwoConnections']\n",
    "    for connection in two_connections:\n",
    "        a = df.iloc[connection]['levelTwoConnections']\n",
    "        for item in a:\n",
    "            three_connections.append(item)\n",
    "    df.at[i, 'levelThreeConnections'] = list(set(three_connections))\n",
    "    \n",
    "    "
   ]
  },
  {
   "cell_type": "code",
   "execution_count": 117,
   "metadata": {},
   "outputs": [],
   "source": [
    "def countVolume(data,nodes):\n",
    "    v = 0\n",
    "    for i in nodes:\n",
    "        a = data.loc[i]['nodeVolume']\n",
    "        v += a\n",
    "        \n",
    "    return v"
   ]
  },
  {
   "cell_type": "code",
   "execution_count": 118,
   "metadata": {},
   "outputs": [
    {
     "data": {
      "text/plain": [
       "5546"
      ]
     },
     "execution_count": 118,
     "metadata": {},
     "output_type": "execute_result"
    }
   ],
   "source": [
    "countVolume(df,[0,5])"
   ]
  },
  {
   "cell_type": "code",
   "execution_count": 126,
   "metadata": {},
   "outputs": [
    {
     "data": {
      "text/html": [
       "<div>\n",
       "<style scoped>\n",
       "    .dataframe tbody tr th:only-of-type {\n",
       "        vertical-align: middle;\n",
       "    }\n",
       "\n",
       "    .dataframe tbody tr th {\n",
       "        vertical-align: top;\n",
       "    }\n",
       "\n",
       "    .dataframe thead th {\n",
       "        text-align: right;\n",
       "    }\n",
       "</style>\n",
       "<table border=\"1\" class=\"dataframe\">\n",
       "  <thead>\n",
       "    <tr style=\"text-align: right;\">\n",
       "      <th></th>\n",
       "      <th>borders</th>\n",
       "      <th>levelOneConnections</th>\n",
       "      <th>nodeFeederCount</th>\n",
       "      <th>nodeID</th>\n",
       "      <th>nodeVolume</th>\n",
       "      <th>levelTwoConnections</th>\n",
       "      <th>levelThreeConnections</th>\n",
       "      <th>L1_Volume</th>\n",
       "      <th>L2_Volume</th>\n",
       "      <th>L3_Volume</th>\n",
       "    </tr>\n",
       "  </thead>\n",
       "  <tbody>\n",
       "    <tr>\n",
       "      <th>0</th>\n",
       "      <td>[{'WaterBorder': 0.5, 'GovernmentBorder': 0.25...</td>\n",
       "      <td>[1, 3, 20]</td>\n",
       "      <td>3</td>\n",
       "      <td>0</td>\n",
       "      <td>328</td>\n",
       "      <td>[0, 2, 4, 5]</td>\n",
       "      <td>[0, 2, 4, 5, 8, 9]</td>\n",
       "      <td>4683</td>\n",
       "      <td>8289</td>\n",
       "      <td>10762</td>\n",
       "    </tr>\n",
       "    <tr>\n",
       "      <th>1</th>\n",
       "      <td>[{'WaterBorder': 0.5, 'GovernmentBorder': 0.25...</td>\n",
       "      <td>[0, 5]</td>\n",
       "      <td>4</td>\n",
       "      <td>1</td>\n",
       "      <td>2090</td>\n",
       "      <td>[1, 3, 6, 7, 20]</td>\n",
       "      <td>[1, 3, 6, 7, 10, 12, 13, 19, 20]</td>\n",
       "      <td>5546</td>\n",
       "      <td>10116</td>\n",
       "      <td>11710</td>\n",
       "    </tr>\n",
       "    <tr>\n",
       "      <th>2</th>\n",
       "      <td>[{'WaterBorder': 0.0, 'GovernmentBorder': 0.0,...</td>\n",
       "      <td>[3, 19]</td>\n",
       "      <td>4</td>\n",
       "      <td>2</td>\n",
       "      <td>1181</td>\n",
       "      <td>[0, 2, 4, 5]</td>\n",
       "      <td>[0, 2, 4, 5, 8, 9]</td>\n",
       "      <td>2698</td>\n",
       "      <td>8289</td>\n",
       "      <td>10762</td>\n",
       "    </tr>\n",
       "    <tr>\n",
       "      <th>3</th>\n",
       "      <td>[{'WaterBorder': 0.0, 'GovernmentBorder': 0.25...</td>\n",
       "      <td>[0, 2, 4, 5]</td>\n",
       "      <td>4</td>\n",
       "      <td>3</td>\n",
       "      <td>1892</td>\n",
       "      <td>[1, 3, 6, 7, 19, 20]</td>\n",
       "      <td>[1, 3, 6, 7, 10, 12, 13, 19, 20]</td>\n",
       "      <td>8289</td>\n",
       "      <td>10922</td>\n",
       "      <td>11710</td>\n",
       "    </tr>\n",
       "    <tr>\n",
       "      <th>4</th>\n",
       "      <td>[{'WaterBorder': 0.0, 'GovernmentBorder': 0.0,...</td>\n",
       "      <td>[3, 6, 19]</td>\n",
       "      <td>4</td>\n",
       "      <td>4</td>\n",
       "      <td>1562</td>\n",
       "      <td>[0, 2, 4, 5, 8]</td>\n",
       "      <td>[0, 2, 4, 5, 8, 9, 11, 12, 13, 14, 15]</td>\n",
       "      <td>5388</td>\n",
       "      <td>10041</td>\n",
       "      <td>11183</td>\n",
       "    </tr>\n",
       "  </tbody>\n",
       "</table>\n",
       "</div>"
      ],
      "text/plain": [
       "                                             borders levelOneConnections  \\\n",
       "0  [{'WaterBorder': 0.5, 'GovernmentBorder': 0.25...          [1, 3, 20]   \n",
       "1  [{'WaterBorder': 0.5, 'GovernmentBorder': 0.25...              [0, 5]   \n",
       "2  [{'WaterBorder': 0.0, 'GovernmentBorder': 0.0,...             [3, 19]   \n",
       "3  [{'WaterBorder': 0.0, 'GovernmentBorder': 0.25...        [0, 2, 4, 5]   \n",
       "4  [{'WaterBorder': 0.0, 'GovernmentBorder': 0.0,...          [3, 6, 19]   \n",
       "\n",
       "   nodeFeederCount  nodeID  nodeVolume   levelTwoConnections  \\\n",
       "0                3       0         328          [0, 2, 4, 5]   \n",
       "1                4       1        2090      [1, 3, 6, 7, 20]   \n",
       "2                4       2        1181          [0, 2, 4, 5]   \n",
       "3                4       3        1892  [1, 3, 6, 7, 19, 20]   \n",
       "4                4       4        1562       [0, 2, 4, 5, 8]   \n",
       "\n",
       "                    levelThreeConnections  L1_Volume  L2_Volume  L3_Volume  \n",
       "0                      [0, 2, 4, 5, 8, 9]       4683       8289      10762  \n",
       "1        [1, 3, 6, 7, 10, 12, 13, 19, 20]       5546      10116      11710  \n",
       "2                      [0, 2, 4, 5, 8, 9]       2698       8289      10762  \n",
       "3        [1, 3, 6, 7, 10, 12, 13, 19, 20]       8289      10922      11710  \n",
       "4  [0, 2, 4, 5, 8, 9, 11, 12, 13, 14, 15]       5388      10041      11183  "
      ]
     },
     "execution_count": 126,
     "metadata": {},
     "output_type": "execute_result"
    }
   ],
   "source": [
    "L1_volume = []\n",
    "L2_volume = []\n",
    "L3_volume = []\n",
    "\n",
    "for i in range(len(df)):\n",
    "    L1_nodes = df.iloc[i]['levelOneConnections']\n",
    "    L2_nodes = df.iloc[i]['levelTwoConnections']\n",
    "    L3_nodes = df.iloc[i]['levelThreeConnections']\n",
    "    \n",
    "    L1_v = countVolume(df, L1_nodes)\n",
    "    L2_v = countVolume(df, L2_nodes)\n",
    "    L3_v = countVolume(df, L3_nodes)\n",
    "    \n",
    "    L1_volume.append(L1_v)\n",
    "    L2_volume.append(L2_v)\n",
    "    L3_volume.append(L3_v)\n",
    "    \n",
    "df['L1_Volume'] = L1_volume\n",
    "df['L2_Volume'] = L2_volume\n",
    "df['L3_Volume'] = L3_volume\n",
    "\n",
    "df.head()"
   ]
  },
  {
   "cell_type": "code",
   "execution_count": null,
   "metadata": {
    "collapsed": true
   },
   "outputs": [],
   "source": []
  }
 ],
 "metadata": {
  "kernelspec": {
   "display_name": "Python 3",
   "language": "python",
   "name": "python3"
  },
  "language_info": {
   "codemirror_mode": {
    "name": "ipython",
    "version": 3
   },
   "file_extension": ".py",
   "mimetype": "text/x-python",
   "name": "python",
   "nbconvert_exporter": "python",
   "pygments_lexer": "ipython3",
   "version": "3.6.3"
  }
 },
 "nbformat": 4,
 "nbformat_minor": 2
}
